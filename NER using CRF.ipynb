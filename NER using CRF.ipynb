{
 "cells": [
  {
   "cell_type": "markdown",
   "metadata": {},
   "source": [
    "# Named entities and random fields\n",
    "\n",
    "[Code on Github](https://github.com/Orbifold/dutch-ner)\n",
    "\n",
    "Natural language processing is, let's be honest, seriously biased towards English and if your customer happens to be in a cutural region where it's not the main language you have an issue. Or an opportunity to articulate something new. In any case, you have a few challenges:\n",
    "\n",
    "- finding relevant data: preferably free to use and pre-tagged. A ton of pdf's will not do.\n",
    "- some language understanding: stop-words, sentence structure and such.\n",
    "- framework understanding: if your favorite NLP framework doesn't contain pre-trained models for the language you have to dig a bit deeper to build things yourself.\n",
    "\n",
    "In this article I'll focus on Dutch since this happens to be one of the common languages here in Belgium. While this isn't spoken by many (compared to, say, French or Spanish) it nevertheless \n",
    "\n",
    "- happens to have some support in frameworks like Gensim, SpaCy and NLTK\n",
    "- isn't as challenging as Chinse, Greek or Bulgarian: Dutch uses the standard Latin alphabet \n",
    "- is not wildly different from English when considering things like lemmatization or sentence splitting.\n",
    "\n",
    "The availability of (trained) data is a real issue however and Dutch is in this respect the prototypical situation: it's difficult to find quality (tagged) data. The emphasis here is on tagged and quality:\n",
    "\n",
    "- of course you have things like [Gutenberg](http://gutenberg.org/) but books alone won't get you very far if you are interested in extracting information out of data. You need labels, tags or something which relates to what you're after. Machine (and human) learning is based on patterns in relationships.\n",
    "- unstructured texts means you'll spend first an eternity cleaning data before effectively turning to the task at hand. A customer handing over a million of pdf's and expecting you to extract magically all they need out of it is a common misunderstanding. \n",
    "\n",
    "Now, assuming the data is present you can start exploring various NLP tasks. For marketing purposes one can look at sentiment analysis in function of product placement or customer propensity. If you need to classify documents you can look at summarization or keyword extraction. Note that if your corpus is large you might benefit from things like [Lucene](https://lucene.apache.org/core/) rather than an homemade engine. In function of a realtime NLP engine (e.g. processing telephone calls) you can look at entity extraction aka named entity recognition (NER). \n",
    "\n",
    "Every NLP process is really based on the following recipe:\n",
    "\n",
    "- **gather data**, preferably tons of it. As many docs as possible.\n",
    "- **clean the data**: remove stop words, noise, irrelevant bits, whatnot\n",
    "- **chunk the data** in a way it suits your aims\n",
    "- **label the parts** in a way the learning step can use it: if you are interested in sentiments label paragraphs or words with some emotional coefficient, if you are after part-of-speech label words with POS tags etc.\n",
    "- find a way to **convert words and labels to numbers**: machine learning does not handle words or characters but numbers. Use anything which makes it happen: word-to-vectors, feature functions, counting (bag of words, matrix...)\n",
    "- figure out **what algorithm works best**, use whatever framework to train a model\n",
    "- define test data or a way to **test the accuracy** of the model\n",
    "- **optimize the accuracy** throuhg gridsearch or whatever works best\n",
    "- **wrap the model** in a consumable, say a REST service or server-less micro-service\n",
    "- keep trying to **improve the model** in whatever way you can\n",
    "\n",
    "Sometimes some of the steps can be skipped. For example, if you find tagged POS data you don't need to clean/tag things yourself. Similarly, often you have various algorithms at your disposal in an NLP framework which fit perfectly. The devil is in the details, of course. Maybe NLTK is great for a small corpus but will not do if you need a Spark cluster to deal with petabytes. For a medium corpus you might need to develop your own out-of-memory algorithm. Plenty of subtleties indeed and the road to a good model is never linear.\n",
    "\n",
    "In what follows I'll focus on **NER in Dutch input** and show how you can train your own NER model. The recipe describe above translates to:\n",
    "\n",
    "- the NLP conference of 2002 in Taiwan produced the so-called CoNLL2002 corpus with a mix of Spanish and Dutch tagged data. This corpus sits in the NLTK framework and is easily accessible. A much larger corpus is available but is not free and demands an out-of-memory approach. The so-called [SoNaR corpus](http://tst-centrale.org/nl/tst-materialen/corpora/sonar-corpus-detail) is a 60 GB compressed corpus with around 500 million words but requires a different approach than the one we outline below.\n",
    "- cleaning the data is not necessary in this case because POS and IOB tags are present. If this is not the case in your project you have a major logistic challenge. Annotating text data is in many ways a hurdle.\n",
    "- the NLTK framework knows about Dutch stop-words and tokenization. This makes it easy to chunk the raw text into sentences and words.\n",
    "- the CoNLL2002 corpus contains IOB and POS labels. It doesn't mean that the info can be used as such however. Feature extraction and engineering is in any machine learning (ML) task an art on its own.\n",
    "- we will use conditional random fields (CRF) to create a NER model. A CRF sits in between basic standard NML algorithms (say, SVM) and non-linear algorithms like LSTM neural networks in terms of complexity. Just like an LSTM network a CRF has knowledge about how bits of data are related. It also has similarities with hidden Markov models (HMM) but generalizes the notion of dependency. Using LSTM would engender a whole playful process of optimizing layers and transition functions. Note, I'm telling you a GRU or LSTM would not perform better than CRF, only that it make it more complex to optimize and to describe.\n",
    "- using scikit-learn's grid search the accuracy is optimized across a hyperparameter domain\n",
    "- we'll wrap the model in a simple REST service using Flask. This can be deployed on AWS or as a docker container. In fact, you can find in [the github repo](https://github.com/Orbifold/dutch-ner) the dockerfile for dockerization.\n",
    "\n",
    "## Conditional random fields in a nutshell\n",
    "\n",
    "For a thorough overview see [An introduction to conditional random fields](http://homepages.inf.ed.ac.uk/csutton/publications/crftut-fnt.pdf) by Charles Sutton and Andrew McCallum in *Machine Learning Vol. 4, No. 4 (2011) 267–373*. Here I'll only skim the surface to give you an idea how things function.\n",
    "\n",
    "When dealing with textual data you need to find a way to convert text to numbers. A common approach is to use embeddings like [word2vec](https://radimrehurek.com/gensim/models/word2vec.html) or [doc2vec](https://radimrehurek.com/gensim/models/doc2vec.html). Another or complementary approach is to use **feature functions**; ad-hoc mappings from words to numbers. Say you have sentences $s$ with word labels $(w_i, \\lambda_i)$. This could be POS or IOB tags. A feature function $f_j$ maps the $(w_i, \\lambda_i)\\mapsto f_j(w_i, \\lambda_i)$ to some number. For example, a feature function could emphasize adjective and assign the number one when an adjective is found and zero otherwise. In general a feature function can take a window into account. The feature function could look at the previous word or the next-next-word as well. This is where it differentiates from LSTM or HMM. An hidden MArkov model only takes the current state into account. An LSTM tries to remember things in function of the defined windows. So, the feature function could be $f_j(w_i, w{i-1}, \\lambda_i)$ if the previous word is included. \n",
    "For a given sentence you can have multiple feature function. One to pick up names of locations, names of organizations and so on. Each feature function is now weighted and for one sentence you get the sum\n",
    "\n",
    "$S(s, \\lambda) = \\sum_{ij} \\rho_j f_j(w_i, w_{i-1}, \\lambda_i) $\n",
    "\n",
    "specific to the labeling and the sentence under consideration. Now to turn this into a probability you use the usual softmax and get \n",
    "\n",
    "$p(s, \\lambda) = \\frac{1}{Z}\\exp - S(s, \\lambda) $\n",
    "\n",
    "with $Z$ the partition function or normalization to ensure that the probabilities sum up to one. Now the machine learning consists of optimizing the $\\lambda$'s to maximize the probabilities. This happens by means of gradient ascend and is similar to training a neural network and alike. Of course, you need lots of sentences and feature function which effectively return what you are looking for.\n",
    "\n",
    "Assuming the training returns optimal weights one can use (polynomial-time) dynamic programming algorithms to find the optimal labels, similar to the [Viterbi algorithm](https://en.wikipedia.org/wiki/Viterbi_algorithm) for HMMs.\n",
    "\n",
    "## NLTK in a nutshell\n",
    "\n",
    "The natural language toolkit is ideal for experimenting with NLP. Probably it's not the tool you'd use for large scale text processing, but that's another topic. It contains all you need to experiment with text and there are many subtletites you need to be aware of when looking at something else than English.\n",
    "\n",
    "- splitting documents into useful paragraphs or blocks is usually something outside the scope of NLTK. If you want to split stanzas in poems you will have to look at line separations. If you want to extract addresses out of Word documents you will have to find appropriate ways to delete obsolete parts of look at markers which define begin/end of the blocks.\n",
    "- splitting paragraphs in sentences is language dependent. This might be a surprise since you naively could assume that splitting at the '.?!' is all you need to do. Things like 'Ph.D.' (English) and 'dhr.' (Dutch) spoil the fun however. Language specific sentence splitting is not too difficult using the [NLTK trainer](https://github.com/japerk/nltk-trainer) and we'll hightlight the procedure below.\n",
    "- splitting sentences in words is also language dependent. The Dutch *'s avonds* is one word but in English the *'s* will be considered as the word 'is' and hence a word on its own. Word tokenizing is hence something which has to be trained as well. Here again, there are tools and open source projects which can help you. The problem is usually finding quality data to train the tokenizer.\n",
    "- removing punctuation is the easy part and can often even be done with regular expressions \n",
    "- removing stop-words is also easy since Dutch, like English, has a limited set of stop words and NLTK actually contains them as a resource\n",
    "- verbs and tenses: the proliferation of the same thing in many shapes. The process of normalizing words to a common root shape is called lemmatization and stemming (the difference is subtle). NLTK can help you with this but like anything else: maybe you need to train your own model. For example, using the 1604 King James Bible with the current English stemmer will not give the expected result. Dialects (the difference between Flemish and Dutch for instance) can also inject mistakes.\n",
    "\n",
    "At the end of this article you will find a collection of code snippets which show you how NLTK deals with the aspects enumerated above.\n",
    "\n"
   ]
  },
  {
   "cell_type": "markdown",
   "metadata": {},
   "source": [
    "## Named entities\n",
    "\n",
    "With all of this contextual info out of the way we can focus on the training a model for entity recognition.\n",
    "\n",
    "Named entities are recognized through POS tags and so-called IOB (aka BIO) tags. The IOB tags indicate whether a word is of a particular type (organization, person etc.). The NLTK conll2002 corpus has all you need:"
   ]
  },
  {
   "cell_type": "code",
   "execution_count": 50,
   "metadata": {},
   "outputs": [
    {
     "data": {
      "text/plain": [
       "[[('De', 'Art', 'O'),\n",
       "  ('tekst', 'N', 'O'),\n",
       "  ('van', 'Prep', 'O'),\n",
       "  ('het', 'Art', 'O'),\n",
       "  ('arrest', 'N', 'O'),\n",
       "  ('is', 'V', 'O'),\n",
       "  ('nog', 'Adv', 'O'),\n",
       "  ('niet', 'Adv', 'O'),\n",
       "  ('schriftelijk', 'Adj', 'O'),\n",
       "  ('beschikbaar', 'Adj', 'O'),\n",
       "  ('maar', 'Conj', 'O'),\n",
       "  ('het', 'Art', 'O'),\n",
       "  ('bericht', 'N', 'O'),\n",
       "  ('werd', 'V', 'O'),\n",
       "  ('alvast', 'Adv', 'O'),\n",
       "  ('bekendgemaakt', 'V', 'O'),\n",
       "  ('door', 'Prep', 'O'),\n",
       "  ('een', 'Art', 'O'),\n",
       "  ('communicatiebureau', 'N', 'O'),\n",
       "  ('dat', 'Conj', 'O'),\n",
       "  ('Floralux', 'N', 'B-ORG'),\n",
       "  ('inhuurde', 'V', 'O'),\n",
       "  ('.', 'Punc', 'O')]]"
      ]
     },
     "execution_count": 50,
     "metadata": {},
     "output_type": "execute_result"
    }
   ],
   "source": [
    " list(nltk.corpus.conll2002.iob_sents('ned.train'))[:1]"
   ]
  },
  {
   "cell_type": "markdown",
   "metadata": {},
   "source": [
    "The 'B-ORG' indicates that the word 'Floralux' is an organization. With this type of info one can train a model to recognize unseen sentences. But if recognition is based on IOB tags then how can you use a normal (i.e. untagged) sentences with the model? You need to train a model which learns how to attach tags? To this end you need to clone the [NLTK trainer](https://github.com/japerk/nltk-trainer) project on Github which dixit *'...trains NLTK objects with zero code...'*.\n"
   ]
  },
  {
   "cell_type": "markdown",
   "metadata": {},
   "source": [
    "This training is a machine learning project on its own but if you are in a hurry, all you need to do is run:        \n",
    "        \n",
    "        python train_chunker.py conll2002 --fileids ned.train --classifier NaiveBayes --filename ~/nltk_data/chunkers/conll2002_ned_NaiveBayes.pickle"
   ]
  },
  {
   "cell_type": "markdown",
   "metadata": {},
   "source": [
    "This will create a pickled model which tags arbitrary Dutch sentences with IOB tags. This tagged array can thereafter be used with the NER model we will build.\n",
    "\n",
    "If you are not in hurry you should replace the 'NaiveBayes' classifier in the instruction above with 'DecisionTree'. It will take around 15min more but your tagger will be 4% more accurate (something like 98% accuracy). Beside DecisionTree you also experiment with Maxent, GIS, IIS, MEGAM and TADM. See [the docs for more](http://nltk-trainer.readthedocs.io/en/latest/train_classifier.html).\n",
    "\n",
    "The NER training and testing data is easily extracted from the NLTK resources like so:"
   ]
  },
  {
   "cell_type": "code",
   "execution_count": 53,
   "metadata": {},
   "outputs": [],
   "source": [
    "from itertools import chain\n",
    "\n",
    "import nltk\n",
    "import sklearn\n",
    "import scipy.stats\n",
    "from sklearn.metrics import make_scorer\n",
    "from sklearn.cross_validation import cross_val_score\n",
    "from sklearn.grid_search import RandomizedSearchCV\n",
    "\n",
    "import sklearn_crfsuite\n",
    "from sklearn_crfsuite import scorers\n",
    "from sklearn_crfsuite import metrics\n",
    "\n",
    "train_sents = list(nltk.corpus.conll2002.iob_sents('ned.train'))\n",
    "test_sents = list(nltk.corpus.conll2002.iob_sents('ned.testb'))"
   ]
  },
  {
   "cell_type": "markdown",
   "metadata": {},
   "source": [
    "If you'd rather train a Spanish NER model you can replace 'ned' with 'spa' above.\n",
    "\n",
    "Referring to the random fields above, we observed that one can use a window (aka n-gram) for the feature functions. In the feature mapping below you can see how we use a 5-gram and collect various bits of info as input for the CRF:"
   ]
  },
  {
   "cell_type": "code",
   "execution_count": 54,
   "metadata": {
    "collapsed": true
   },
   "outputs": [],
   "source": [
    "def word2features(sent, i):\n",
    "    word = sent[i][0]\n",
    "    postag = sent[i][1]\n",
    "\n",
    "    features = {\n",
    "        'bias': 1.0,\n",
    "        'word.lower()': word.lower(),\n",
    "        'word[-3:]': word[-3:],\n",
    "        'word[-2:]': word[-2:],\n",
    "        'word.isupper()': word.isupper(),\n",
    "        'word.istitle()': word.istitle(),\n",
    "        'word.isdigit()': word.isdigit(),\n",
    "        'postag': postag,\n",
    "        'postag[:2]': postag[:2],\n",
    "    }\n",
    "    if i > 0:\n",
    "        word1 = sent[i - 1][0]\n",
    "        postag1 = sent[i - 1][1]\n",
    "        features.update({\n",
    "            '-1:word.lower()': word1.lower(),\n",
    "            '-1:word.istitle()': word1.istitle(),\n",
    "            '-1:word.isupper()': word1.isupper(),\n",
    "            '-1:postag': postag1,\n",
    "            '-1:postag[:2]': postag1[:2],\n",
    "        })\n",
    "    else:\n",
    "        features['BOS'] = True\n",
    "\n",
    "    if i < len(sent) - 1:\n",
    "        word1 = sent[i + 1][0]\n",
    "        postag1 = sent[i + 1][1]\n",
    "        features.update({\n",
    "            '+1:word.lower()': word1.lower(),\n",
    "            '+1:word.istitle()': word1.istitle(),\n",
    "            '+1:word.isupper()': word1.isupper(),\n",
    "            '+1:postag': postag1,\n",
    "            '+1:postag[:2]': postag1[:2],\n",
    "        })\n",
    "    else:\n",
    "        features['EOS'] = True\n",
    "\n",
    "    return features"
   ]
  },
  {
   "cell_type": "markdown",
   "metadata": {},
   "source": [
    "With this feature extraction we assemble the actual data for the training and testing:"
   ]
  },
  {
   "cell_type": "code",
   "execution_count": 55,
   "metadata": {
    "collapsed": true
   },
   "outputs": [],
   "source": [
    "def sent2features(sent):\n",
    "    return [word2features(sent, i) for i in range(len(sent))]\n",
    "\n",
    "\n",
    "def sent2labels(sent):\n",
    "    return [label for token, postag, label in sent]\n",
    "\n",
    "\n",
    "def sent2tokens(sent):\n",
    "    return [token for token, postag, label in sent]\n",
    "\n",
    "\n",
    "X_train = [sent2features(s) for s in train_sents]\n",
    "y_train = [sent2labels(s) for s in train_sents]\n",
    "\n",
    "X_test = [sent2features(s) for s in test_sents]\n",
    "y_test = [sent2labels(s) for s in test_sents]"
   ]
  },
  {
   "cell_type": "markdown",
   "metadata": {},
   "source": [
    "This type of manipulations are fairly standard if you have used [scikit-learn](http://scikit-learn.org/stable/) before. \n",
    "\n",
    "Training then is as simple as this:"
   ]
  },
  {
   "cell_type": "code",
   "execution_count": 56,
   "metadata": {},
   "outputs": [
    {
     "data": {
      "text/plain": [
       "CRF(algorithm='lbfgs', all_possible_states=None,\n",
       "  all_possible_transitions=True, averaging=None, c=None, c1=0.1, c2=0.1,\n",
       "  calibration_candidates=None, calibration_eta=None,\n",
       "  calibration_max_trials=None, calibration_rate=None,\n",
       "  calibration_samples=None, delta=None, epsilon=None, error_sensitive=None,\n",
       "  gamma=None, keep_tempfiles=None, linesearch=None, max_iterations=100,\n",
       "  max_linesearch=None, min_freq=None, model_filename=None,\n",
       "  num_memories=None, pa_type=None, period=None, trainer_cls=None,\n",
       "  variance=None, verbose=False)"
      ]
     },
     "execution_count": 56,
     "metadata": {},
     "output_type": "execute_result"
    }
   ],
   "source": [
    "crf = sklearn_crfsuite.CRF(\n",
    "    algorithm='lbfgs',\n",
    "    c1=0.1,\n",
    "    c2=0.1,\n",
    "    max_iterations=100,\n",
    "    all_possible_transitions=True\n",
    ")\n",
    "crf.fit(X_train, y_train)"
   ]
  },
  {
   "cell_type": "markdown",
   "metadata": {},
   "source": [
    "This takes very little time but it's not optimized. The optimization consists of tuning the hyperparameters of the algorithm. In the case of CRF, the c1 and c2 params.\n",
    "The sklearn framework has this wonderful gridsearch mechanics which allows you to automatically figure out which parameters maximize a metric. To use it you need:\n",
    "\n",
    "- to define the intervals or enumerations inside which the optimization has to search (the hyperparameter space)\n",
    "- the metric which tells the optimization what 'better' means\n",
    "\n",
    "You can find plenty of [docs](http://scikit-learn.org/stable/modules/generated/sklearn.model_selection.GridSearchCV.html) and [info](http://scikit-learn.org/stable/modules/grid_search.html) around this topic."
   ]
  },
  {
   "cell_type": "code",
   "execution_count": 59,
   "metadata": {},
   "outputs": [],
   "source": [
    "params_space = {\n",
    "    'c1': scipy.stats.expon(scale=0.5),\n",
    "    'c2': scipy.stats.expon(scale=0.05),\n",
    "}\n",
    "\n",
    "# use the same metric for evaluation\n",
    "f1_scorer = make_scorer(metrics.flat_f1_score,\n",
    "                        average='weighted')\n",
    "\n",
    "# search\n",
    "rs = RandomizedSearchCV(crf, params_space,\n",
    "                        cv=3,\n",
    "                        verbose=1,\n",
    "                        n_jobs=-1,\n",
    "                        n_iter=50,\n",
    "                        scoring=f1_scorer)\n",
    "\n",
    "# uncomment next line to effectively perform the search\n",
    "# rs.fit(X_train, y_train)"
   ]
  },
  {
   "cell_type": "markdown",
   "metadata": {},
   "source": [
    "This will take a while. The 'crf' model now contains an optimized NER detection model which can be used independently of the training and everything we've done above.\n",
    "\n",
    "Once the training returns you can save the model via:"
   ]
  },
  {
   "cell_type": "code",
   "execution_count": 60,
   "metadata": {},
   "outputs": [
    {
     "data": {
      "text/plain": [
       "['Dutch.pkl']"
      ]
     },
     "execution_count": 60,
     "metadata": {},
     "output_type": "execute_result"
    }
   ],
   "source": [
    "from sklearn.externals import joblib\n",
    "joblib.dump(crf, 'Dutch.pkl')"
   ]
  },
  {
   "cell_type": "markdown",
   "metadata": {},
   "source": [
    "One important remark is in order. You can see that the whole training and testing data is loaded in memory. This approach obviously does not work with large datasets and there are so-called [out-of-core](https://en.wikipedia.org/wiki/Out-of-core_algorithm) algorithms which can help. This means however that you need to figure out how training can happen incrementally. Or you need a different approach, for example using [MLlib with a Spark cluster](https://spark.apache.org/docs/1.1.0/mllib-feature-extraction.html) which eventually demands some experience with Scala or PySpark.\n",
    "\n",
    "## RESTifying the model\n",
    "\n",
    "The trained model can be reused in a Python pipeline but it's very likely that your architecture is heterogenous and your consumer is not based on Python. One way to deploy the model is by means of a server-less AWS service.\n",
    "\n",
    "Another way is to create a docker container with a REST service calling the model. Creating a REST service can be done via Bottle, Django, Flask or whatever your favorite framework is. In the repo you will find a Flask service:"
   ]
  },
  {
   "cell_type": "code",
   "execution_count": 62,
   "metadata": {},
   "outputs": [],
   "source": [
    "# @app.route('/ner/<sen>')\n",
    "def ner(sen):\n",
    "    tagged = [tagger.tag(word_tokenize(sen))]\n",
    "    p = crf.predict([sent2features(s) for s in tagged])\n",
    "    r = []\n",
    "    e = tagged[0]\n",
    "    for i in range(len(e)):\n",
    "        tag = p[0][i]\n",
    "        parts = tag.split(\"-\")\n",
    "        if len(parts)>1:\n",
    "            what = parts[1]\n",
    "        else:\n",
    "            what = parts[0]\n",
    "        if what != \"O\":\n",
    "            r.append({\"word\": e[i][0], \"pos\": e[i][1], \"entity\": what})\n",
    "    return jsonify(r)"
   ]
  },
  {
   "cell_type": "markdown",
   "metadata": {},
   "source": [
    "As advertized earlier, the only thing happening on this level is transforming natural language to a format the model expects. The NER seervice really is just a call to the 'predict' method. \n",
    "\n",
    "In order to dockerize all this you need a very basic Linux with Python image and some YML files. You can find all of this in the repo. The only thing you need to do is to call\n",
    "\n",
    "        docker-compose up\n",
    "        \n",
    "in the directory where the YML files reside. See the [docker composer docs](https://docs.docker.com/compose/reference/up/) for more info."
   ]
  },
  {
   "cell_type": "markdown",
   "metadata": {},
   "source": [
    "## NLTK snippets\n",
    "\n"
   ]
  },
  {
   "cell_type": "code",
   "execution_count": 2,
   "metadata": {
    "collapsed": true
   },
   "outputs": [],
   "source": [
    "import nltk\n",
    "# a corpus can be downloaded using nltk.download() which brings up a neat UI\n",
    "from nltk.corpus import conll2002"
   ]
  },
  {
   "cell_type": "markdown",
   "metadata": {},
   "source": [
    "Regarding Dutch there are a few key-resources \n",
    "\n",
    "-  the CoNLL2002 corpus included with NLTK. It's however a mixture of Spanish and Dutch so it's vital to filter out the Dutch sentences only.\n",
    "- the [Groningen Meaning Bank](http://gmb.let.rug.nl/data.php) \n",
    "- the [SoNaR corpus](http://tst-centrale.org/nl/tst-materialen/corpora/sonar-corpus-detail) which seems to be the most complete one can find (500 million words!).\n",
    "\n",
    "The conll2002 corpus contains both Spanish and Dutch so you need to filter out only the Dutch part, for example"
   ]
  },
  {
   "cell_type": "code",
   "execution_count": 8,
   "metadata": {},
   "outputs": [
    {
     "name": "stdout",
     "output_type": "stream",
     "text": [
      "(S\n",
      "  De/Art\n",
      "  tekst/N\n",
      "  van/Prep\n",
      "  het/Art\n",
      "  arrest/N\n",
      "  is/V\n",
      "  nog/Adv\n",
      "  niet/Adv\n",
      "  schriftelijk/Adj\n",
      "  beschikbaar/Adj\n",
      "  maar/Conj\n",
      "  het/Art\n",
      "  bericht/N\n",
      "  werd/V\n",
      "  alvast/Adv\n",
      "  bekendgemaakt/V\n",
      "  door/Prep\n",
      "  een/Art\n",
      "  communicatiebureau/N\n",
      "  dat/Conj\n",
      "  (ORG Floralux/N)\n",
      "  inhuurde/V\n",
      "  ./Punc)\n"
     ]
    }
   ],
   "source": [
    "for doc in conll2002.chunked_sents('ned.train')[:1]:\n",
    "    print(doc)"
   ]
  },
  {
   "cell_type": "markdown",
   "metadata": {},
   "source": [
    "To default `sent_tokenize` method uses by default English so you need to override this:"
   ]
  },
  {
   "cell_type": "code",
   "execution_count": 11,
   "metadata": {},
   "outputs": [
    {
     "name": "stdout",
     "output_type": "stream",
     "text": [
      "Een goede reputatie is beter dan het duurste parfum.\n",
      "--------\n",
      "Dhr.\n",
      "--------\n",
      "Jansen heeft mevr.\n",
      "--------\n",
      "Vandaele gehuwd.\n",
      "--------\n"
     ]
    }
   ],
   "source": [
    "from nltk.tokenize import sent_tokenize\n",
    "raw = \"Een goede reputatie is beter dan het duurste parfum. Dhr. Jansen heeft mevr. Vandaele gehuwd.\"\n",
    "for sent in sent_tokenize(raw, language='dutch'):\n",
    "     print(sent)\n",
    "     print('--------')"
   ]
  },
  {
   "cell_type": "markdown",
   "metadata": {},
   "source": [
    "Which is not at all what you want. So you need to train your own tokernizer and add explicitly the stuff you considere as not splitting to a sentence.\n",
    "\n",
    "The PunktTrainer class is an unsupervised learner which can be used for this purpose:"
   ]
  },
  {
   "cell_type": "code",
   "execution_count": 26,
   "metadata": {
    "collapsed": true
   },
   "outputs": [],
   "source": [
    "from nltk.tokenize.punkt import PunktSentenceTokenizer, PunktTrainer\n",
    " \n",
    "text = conll2002.raw(\"ned.train\")\n",
    "\n",
    "trainer = PunktTrainer()\n",
    "trainer.INCLUDE_ALL_COLLOCS = True\n",
    "trainer.train(text)\n",
    "tokenizer = PunktSentenceTokenizer(trainer.get_params())"
   ]
  },
  {
   "cell_type": "markdown",
   "metadata": {},
   "source": [
    "The abbreviations which are considered as not splitting a sentence can be obtained from"
   ]
  },
  {
   "cell_type": "code",
   "execution_count": 27,
   "metadata": {},
   "outputs": [
    {
     "name": "stdout",
     "output_type": "stream",
     "text": [
      "[\"'dr\", \"'mr\", \"'w\", '1.ple', 'a.b', 'a.d', 'a.j', 'a.s', 'ami', 'ang', 'ant', 'ara', 'av', 'ave', 'b', 'b.b', 'banq', 'bap', 'blz', 'boa', 'br', 'bru', 'brut', 'burs', 'c', 'cai', 'calp', 'cas', 'cass', 'cassi', 'cath', 'cic', 'cie', 'cin', 'clit', 'clo', 'cly', 'cob', 'cop', 'cyn', 'dard', 'dec', 'deci', 'doct', 'dr', 'drs', 'dut', 'e.a', 'e.m', 'ely', 'enz', 'esq', 'etc', 'f', 'feb', 'finsb', 'fla', 'foh', 'fr', 'fran', 'g', 'g.k', 'ger', 'gho', 'gj', 'guil', 'h', 'hag', 'hec', 'hora', 'i.b', 'i.e', 'ibid', 'j', 'j.b', 'j.p', 'jp', 'jun', 'k.c', 'l10', 'laer', 'lbs', 'len', 'lep', 'ltd', 'm.a.w', 'm.d', 'm.i', 'm.p', 'mac', 'macb', 'macd', 'mal', 'malc', 'ment', 'messa', 'mevr', 'mgr', 'moo', 'mrs', 'mss', 'mt', 'mur', 'n.e', 'nr', 'o.a', 'o.r', 'oct', 'octa', 'ophe', 'osr', 'p', 'p.h', 'p.m', 'p.s', 'pind', 'ple', 'poe', 'polon', 'qu', 'r', 'rev', 'ro', 'ros', 'rosin', 's', 's.a', 's.w.f', 'ser', 'sey', 'stra', 'sw', 'syw', 't', 't.m', 'talb', 'tit', 'treb', 'u.s', 'ult', 'v.e', 'var', 'w', 'wm', 'xxx', 'y.sey', 'z.t']\n"
     ]
    }
   ],
   "source": [
    "print(sorted(tokenizer._params.abbrev_types))"
   ]
  },
  {
   "cell_type": "code",
   "execution_count": 30,
   "metadata": {},
   "outputs": [
    {
     "data": {
      "text/plain": [
       "['Mr.', 'Jansen vertelde aan Mevr. Vandaele het tragische verhaal.']"
      ]
     },
     "execution_count": 30,
     "metadata": {},
     "output_type": "execute_result"
    }
   ],
   "source": [
    "sentence = \"Mr. Jansen vertelde aan Mevr. Vandaele het tragische verhaal.\"\n",
    "tokenizer.tokenize(sentence)"
   ]
  },
  {
   "cell_type": "markdown",
   "metadata": {},
   "source": [
    "You can ask NLTK how splitting decisions are made:"
   ]
  },
  {
   "cell_type": "code",
   "execution_count": 31,
   "metadata": {},
   "outputs": [
    {
     "name": "stdout",
     "output_type": "stream",
     "text": [
      "{'break_decision': True,\n",
      " 'collocation': False,\n",
      " 'period_index': 2,\n",
      " 'reason': 'default decision',\n",
      " 'text': 'Mr. Jansen',\n",
      " 'type1': 'mr.',\n",
      " 'type1_in_abbrs': False,\n",
      " 'type1_is_initial': False,\n",
      " 'type2': 'jansen',\n",
      " 'type2_is_sent_starter': False,\n",
      " 'type2_ortho_contexts': {'UNK-UC'},\n",
      " 'type2_ortho_heuristic': 'unknown'}\n",
      "==============================\n",
      "{'break_decision': None,\n",
      " 'collocation': False,\n",
      " 'period_index': 28,\n",
      " 'reason': 'default decision',\n",
      " 'text': 'Mevr. Vandaele',\n",
      " 'type1': 'mevr.',\n",
      " 'type1_in_abbrs': True,\n",
      " 'type1_is_initial': False,\n",
      " 'type2': 'vandaele',\n",
      " 'type2_is_sent_starter': False,\n",
      " 'type2_ortho_contexts': {'UNK-UC'},\n",
      " 'type2_ortho_heuristic': 'unknown'}\n",
      "==============================\n"
     ]
    }
   ],
   "source": [
    "for decision in tokenizer.debug_decisions(sentence):\n",
    "    pprint(decision)\n",
    "    print( '=' * 30)"
   ]
  },
  {
   "cell_type": "markdown",
   "metadata": {},
   "source": [
    "Adding your own non-splitting tokens is now as simple as"
   ]
  },
  {
   "cell_type": "code",
   "execution_count": 33,
   "metadata": {},
   "outputs": [
    {
     "data": {
      "text/plain": [
       "['Mr. Jansen vertelde aan Mevr. Vandaele het tragische verhaal.']"
      ]
     },
     "execution_count": 33,
     "metadata": {},
     "output_type": "execute_result"
    }
   ],
   "source": [
    "tokenizer._params.abbrev_types.add('mr') \n",
    "tokenizer.tokenize(sentence)"
   ]
  },
  {
   "cell_type": "markdown",
   "metadata": {},
   "source": [
    "which now correctly interpretes the whole string as one sentence.\n",
    "\n",
    "Word tokenization is similar to sentence splitting. Maybe you need to train your own tokenizer, maybe not. The default approach works sometimes:"
   ]
  },
  {
   "cell_type": "code",
   "execution_count": 35,
   "metadata": {},
   "outputs": [
    {
     "data": {
      "text/plain": [
       "['Mr.',\n",
       " 'Jansen',\n",
       " 'vertelde',\n",
       " 'aan',\n",
       " 'Mevr',\n",
       " '.',\n",
       " 'Vandaele',\n",
       " 'het',\n",
       " 'tragische',\n",
       " 'verhaal',\n",
       " '.']"
      ]
     },
     "execution_count": 35,
     "metadata": {},
     "output_type": "execute_result"
    }
   ],
   "source": [
    "from nltk import word_tokenize\n",
    "word_tokenize(sentence)"
   ]
  },
  {
   "cell_type": "markdown",
   "metadata": {},
   "source": [
    "The [REPP parser](http://www.nltk.org/api/nltk.tokenize.html) can help if you need to run your own.\n",
    "\n",
    "Removing punctuation can be implemented with regular expressions:"
   ]
  },
  {
   "cell_type": "code",
   "execution_count": 41,
   "metadata": {
    "collapsed": true
   },
   "outputs": [],
   "source": [
    "import gensim, string, re, pickle\n",
    "from nltk import RegexpTokenizer, word_tokenize, sent_tokenize\n",
    "from nltk.corpus import stopwords\n",
    "from os import listdir\n",
    "from os.path import isfile, join\n",
    "from nltk.corpus import stopwords\n",
    "from nltk.stem.snowball import SnowballStemmer\n",
    "def remove_punctuation(data):\n",
    "    \"\"\"\n",
    "    Removes unwanted punctuation from the given stanzas.\n",
    "    Args:\n",
    "       tokens (array): An array of arrays of words.\n",
    "    \"\"\"\n",
    "    cleaned = []\n",
    "    ignored_punctuation = string.punctuation + '’' \n",
    "    #see documentation here: http://docs.python.org/2/library/string.html\n",
    "    regex = re.compile('[0-9%s]' % re.escape(ignored_punctuation))\n",
    "    for sent in data:\n",
    "        new_sent = []\n",
    "        for word in sent: \n",
    "            new_token = regex.sub(u'', word)\n",
    "            if not new_token == u'':\n",
    "                new_sent.append(new_token)\n",
    "\n",
    "        cleaned.append(new_sent)\n",
    "    return cleaned"
   ]
  },
  {
   "cell_type": "markdown",
   "metadata": {},
   "source": [
    "You can add whatever language specific char to the `ignored_punctuation` variable above.\n",
    "\n",
    "Removing stop-words can be based on the predefined ones:"
   ]
  },
  {
   "cell_type": "code",
   "execution_count": 37,
   "metadata": {
    "collapsed": true
   },
   "outputs": [],
   "source": [
    "def remove_stopwords(stanzas):\n",
    "    tokenized_docs_no_stopwords = []\n",
    "    noise = stopwords.words('dutch')\n",
    "    for doc in stanzas:\n",
    "        new_term_vector = []\n",
    "        for word in doc:\n",
    "            if not word in noise:\n",
    "                new_term_vector.append(word)\n",
    "        tokenized_docs_no_stopwords.append(new_term_vector)\n",
    "    return tokenized_docs_no_stopwords"
   ]
  },
  {
   "cell_type": "markdown",
   "metadata": {},
   "source": [
    "So is normalization:\n"
   ]
  },
  {
   "cell_type": "code",
   "execution_count": 38,
   "metadata": {
    "collapsed": true
   },
   "outputs": [],
   "source": [
    "def normalize(stanzas):\n",
    "    snowball = SnowballStemmer(\"dutch\")\n",
    "    result = []\n",
    "    for doc in stanzas:\n",
    "        final_doc = []\n",
    "        for word in doc:        \n",
    "            final_doc.append(snowball.stem(word))\n",
    "\n",
    "        result.append(final_doc)\n",
    "    return result"
   ]
  },
  {
   "cell_type": "markdown",
   "metadata": {},
   "source": [
    "If you assemble the above snippets you can go from raw text to clean arrays of arrays of words. Each array representing one sentence. \n"
   ]
  },
  {
   "cell_type": "code",
   "execution_count": 47,
   "metadata": {},
   "outputs": [
    {
     "data": {
      "text/plain": [
       "[['mr',\n",
       "  'jans',\n",
       "  'verteld',\n",
       "  'aan',\n",
       "  'mevr',\n",
       "  'vandael',\n",
       "  'het',\n",
       "  'tragisch',\n",
       "  'verhal']]"
      ]
     },
     "execution_count": 47,
     "metadata": {},
     "output_type": "execute_result"
    }
   ],
   "source": [
    "normalize(remove_punctuation([word_tokenize(sentence)]))"
   ]
  },
  {
   "cell_type": "markdown",
   "metadata": {},
   "source": [
    "At this point you can start converting the arrays to numbers via word2vec, doc2vec and alike. Once the words have become numbers you can use [TensorFlow](https://www.tensorflow.org), [Gensim](https://radimrehurek.com/gensim/) or [MXNet](http://mxnet.io) to learn from the data."
   ]
  }
 ],
 "metadata": {
  "kernelspec": {
   "display_name": "Python 3",
   "language": "python",
   "name": "python3"
  },
  "language_info": {
   "codemirror_mode": {
    "name": "ipython",
    "version": 3
   },
   "file_extension": ".py",
   "mimetype": "text/x-python",
   "name": "python",
   "nbconvert_exporter": "python",
   "pygments_lexer": "ipython3",
   "version": "3.6.0"
  }
 },
 "nbformat": 4,
 "nbformat_minor": 2
}
